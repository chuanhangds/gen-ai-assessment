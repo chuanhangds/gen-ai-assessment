{
  "cells": [
    {
      "cell_type": "code",
      "id": "d4GxsDqj5Qx578pKmqJnXwTG",
      "metadata": {
        "tags": [],
        "id": "d4GxsDqj5Qx578pKmqJnXwTG",
        "colab": {
          "base_uri": "https://localhost:8080/"
        },
        "outputId": "f9a17748-57d5-4cd5-c7f5-44f5ad24ef8b"
      },
      "source": [
        "!pip install --quiet --upgrade google_cloud_firestore google_cloud_aiplatform langchain langchain-google-vertexai langchain_community langchain_experimental pymupdf\n"
      ],
      "execution_count": 1,
      "outputs": [
        {
          "output_type": "stream",
          "name": "stdout",
          "text": [
            "\u001b[2K     \u001b[90m━━━━━━━━━━━━━━━━━━━━━━━━━━━━━━━━━━━━━━━━\u001b[0m \u001b[32m149.4/149.4 kB\u001b[0m \u001b[31m7.1 MB/s\u001b[0m eta \u001b[36m0:00:00\u001b[0m\n",
            "\u001b[2K   \u001b[90m━━━━━━━━━━━━━━━━━━━━━━━━━━━━━━━━━━━━━━━━\u001b[0m \u001b[32m6.5/6.5 MB\u001b[0m \u001b[31m73.7 MB/s\u001b[0m eta \u001b[36m0:00:00\u001b[0m\n",
            "\u001b[2K   \u001b[90m━━━━━━━━━━━━━━━━━━━━━━━━━━━━━━━━━━━━━━━━\u001b[0m \u001b[32m1.0/1.0 MB\u001b[0m \u001b[31m61.2 MB/s\u001b[0m eta \u001b[36m0:00:00\u001b[0m\n",
            "\u001b[2K   \u001b[90m━━━━━━━━━━━━━━━━━━━━━━━━━━━━━━━━━━━━━━━━\u001b[0m \u001b[32m90.4/90.4 kB\u001b[0m \u001b[31m9.8 MB/s\u001b[0m eta \u001b[36m0:00:00\u001b[0m\n",
            "\u001b[2K   \u001b[90m━━━━━━━━━━━━━━━━━━━━━━━━━━━━━━━━━━━━━━━━\u001b[0m \u001b[32m2.5/2.5 MB\u001b[0m \u001b[31m85.0 MB/s\u001b[0m eta \u001b[36m0:00:00\u001b[0m\n",
            "\u001b[2K   \u001b[90m━━━━━━━━━━━━━━━━━━━━━━━━━━━━━━━━━━━━━━━━\u001b[0m \u001b[32m209.0/209.0 kB\u001b[0m \u001b[31m22.0 MB/s\u001b[0m eta \u001b[36m0:00:00\u001b[0m\n",
            "\u001b[2K   \u001b[90m━━━━━━━━━━━━━━━━━━━━━━━━━━━━━━━━━━━━━━━━\u001b[0m \u001b[32m20.0/20.0 MB\u001b[0m \u001b[31m79.2 MB/s\u001b[0m eta \u001b[36m0:00:00\u001b[0m\n",
            "\u001b[2K   \u001b[90m━━━━━━━━━━━━━━━━━━━━━━━━━━━━━━━━━━━━━━━━\u001b[0m \u001b[32m131.8/131.8 kB\u001b[0m \u001b[31m14.5 MB/s\u001b[0m eta \u001b[36m0:00:00\u001b[0m\n",
            "\u001b[2K   \u001b[90m━━━━━━━━━━━━━━━━━━━━━━━━━━━━━━━━━━━━━━━━\u001b[0m \u001b[32m76.4/76.4 kB\u001b[0m \u001b[31m8.3 MB/s\u001b[0m eta \u001b[36m0:00:00\u001b[0m\n",
            "\u001b[2K   \u001b[90m━━━━━━━━━━━━━━━━━━━━━━━━━━━━━━━━━━━━━━━━\u001b[0m \u001b[32m411.2/411.2 kB\u001b[0m \u001b[31m34.0 MB/s\u001b[0m eta \u001b[36m0:00:00\u001b[0m\n",
            "\u001b[2K   \u001b[90m━━━━━━━━━━━━━━━━━━━━━━━━━━━━━━━━━━━━━━━━\u001b[0m \u001b[32m434.9/434.9 kB\u001b[0m \u001b[31m37.9 MB/s\u001b[0m eta \u001b[36m0:00:00\u001b[0m\n",
            "\u001b[2K   \u001b[90m━━━━━━━━━━━━━━━━━━━━━━━━━━━━━━━━━━━━━━━━\u001b[0m \u001b[32m2.1/2.1 MB\u001b[0m \u001b[31m86.9 MB/s\u001b[0m eta \u001b[36m0:00:00\u001b[0m\n",
            "\u001b[2K   \u001b[90m━━━━━━━━━━━━━━━━━━━━━━━━━━━━━━━━━━━━━━━━\u001b[0m \u001b[32m49.5/49.5 kB\u001b[0m \u001b[31m5.7 MB/s\u001b[0m eta \u001b[36m0:00:00\u001b[0m\n",
            "\u001b[?25h"
          ]
        }
      ]
    },
    {
      "cell_type": "code",
      "source": [
        "import vertexai\n",
        "from vertexai.language_models import TextEmbeddingModel\n",
        "from vertexai.generative_models import GenerativeModel\n",
        "\n",
        "import pickle\n",
        "from IPython.display import display, Markdown\n",
        "\n",
        "from langchain_google_vertexai import VertexAIEmbeddings\n",
        "from langchain_community.document_loaders import PyMuPDFLoader\n",
        "from langchain_experimental.text_splitter import SemanticChunker\n",
        "\n",
        "from google.cloud import firestore\n",
        "from google.cloud.firestore_v1.vector import Vector\n",
        "from google.cloud.firestore_v1.base_vector_query import DistanceMeasure"
      ],
      "metadata": {
        "id": "sKhIjC3Fgqp-"
      },
      "id": "sKhIjC3Fgqp-",
      "execution_count": 2,
      "outputs": []
    },
    {
      "cell_type": "code",
      "source": [
        "PROJECT_ID = \"qwiklabs-gcp-01-5813c5344fea\"  # 将此处替换为您的项目 ID\n",
        "LOCATION = \"us-central1\"\n",
        "\n",
        "vertexai.init(project=PROJECT_ID, location=LOCATION)"
      ],
      "metadata": {
        "id": "DjYx8Ocfgq53"
      },
      "id": "DjYx8Ocfgq53",
      "execution_count": 3,
      "outputs": []
    },
    {
      "cell_type": "code",
      "source": [
        "embedding_model = VertexAIEmbeddings(model_name=\"text-embedding-004\")  # 或者使用最新模型\n"
      ],
      "metadata": {
        "id": "q9IxsuE9grBb"
      },
      "id": "q9IxsuE9grBb",
      "execution_count": 4,
      "outputs": []
    },
    {
      "cell_type": "code",
      "source": [
        "!gcloud storage cp gs://partner-genai-bucket/genai069/nyc_food_safety_manual.pdf .\n"
      ],
      "metadata": {
        "colab": {
          "base_uri": "https://localhost:8080/"
        },
        "id": "0bFZKvzAgrEZ",
        "outputId": "4b6a4f92-2845-4f31-f4eb-d1c1334b9b98"
      },
      "id": "0bFZKvzAgrEZ",
      "execution_count": 5,
      "outputs": [
        {
          "output_type": "stream",
          "name": "stdout",
          "text": [
            "Copying gs://partner-genai-bucket/genai069/nyc_food_safety_manual.pdf to file://./nyc_food_safety_manual.pdf\n",
            "\n",
            "Average throughput: 121.9MiB/s\n"
          ]
        }
      ]
    },
    {
      "cell_type": "code",
      "source": [
        "loader = PyMuPDFLoader(\"nyc_food_safety_manual.pdf\")\n",
        "data = loader.load()"
      ],
      "metadata": {
        "id": "MeinXF6SgrHN"
      },
      "id": "MeinXF6SgrHN",
      "execution_count": 6,
      "outputs": []
    },
    {
      "cell_type": "code",
      "source": [
        "def clean_page(page):\n",
        "    return page.page_content.replace(\"-\\n\",\"\")\\\n",
        "                          .replace(\"\\n\",\" \")\\\n",
        "                          .replace(\"\\x02\",\"\")\\\n",
        "                          .replace(\"\\x03\",\"\")\\\n",
        "                          .replace(\"fo d P R O T E C T I O N  T R A I N I N G  M A N U A L\",\"\")\\\n",
        "                          .replace(\"N E W  Y O R K  C I T Y  D E P A R T M E N T  O F  H E A L T H  &  M E N T A L  H Y G I E N E\",\"\")\n"
      ],
      "metadata": {
        "id": "yGvLtJzpgrJ0"
      },
      "id": "yGvLtJzpgrJ0",
      "execution_count": 7,
      "outputs": []
    },
    {
      "cell_type": "code",
      "source": [
        "from langchain.schema import Document\n",
        "\n",
        "# 将清洗后的字符串列表转换为 Document 对象列表\n",
        "cleaned_docs = [Document(page_content=page) for page in cleaned_pages[:5]]\n",
        "\n",
        "# 使用 SemanticChunker 分割文档\n",
        "semantic_chunker = SemanticChunker(embeddings=embedding_model)\n",
        "chunked_docs = semantic_chunker.split_documents(cleaned_docs)\n",
        "chunked_content = [doc.page_content for doc in chunked_docs]\n"
      ],
      "metadata": {
        "id": "eMvPf2cVgrMe"
      },
      "id": "eMvPf2cVgrMe",
      "execution_count": 11,
      "outputs": []
    },
    {
      "cell_type": "code",
      "source": [
        "chunked_embeddings = embedding_model.embed_documents(chunked_content)"
      ],
      "metadata": {
        "id": "-eiZPje5grSM"
      },
      "id": "-eiZPje5grSM",
      "execution_count": 12,
      "outputs": []
    },
    {
      "cell_type": "code",
      "source": [
        "!gsutil cp gs://partner-genai-bucket/genai069/chunked_content.pkl .\n",
        "!gsutil cp gs://partner-genai-bucket/genai069/chunked_embeddings.pkl .\n",
        "\n",
        "chunked_content = pickle.load(open(\"chunked_content.pkl\", \"rb\"))\n",
        "chunked_embeddings = pickle.load(open(\"chunked_embeddings.pkl\", \"rb\"))\n"
      ],
      "metadata": {
        "colab": {
          "base_uri": "https://localhost:8080/"
        },
        "id": "ZEwcu2-HgrUi",
        "outputId": "1786a372-825e-452d-ee6a-bc4179e27b34"
      },
      "id": "ZEwcu2-HgrUi",
      "execution_count": 13,
      "outputs": [
        {
          "output_type": "stream",
          "name": "stdout",
          "text": [
            "Copying gs://partner-genai-bucket/genai069/chunked_content.pkl...\n",
            "/ [0 files][    0.0 B/280.7 KiB]                                                \r/ [1 files][280.7 KiB/280.7 KiB]                                                \r\n",
            "Operation completed over 1 objects/280.7 KiB.                                    \n",
            "Copying gs://partner-genai-bucket/genai069/chunked_embeddings.pkl...\n",
            "/ [1 files][  1.8 MiB/  1.8 MiB]                                                \n",
            "Operation completed over 1 objects/1.8 MiB.                                      \n"
          ]
        }
      ]
    },
    {
      "cell_type": "code",
      "source": [
        "from google.cloud import firestore\n",
        "from google.cloud.firestore_v1.vector import Vector\n",
        "import uuid\n",
        "import numpy as np\n",
        "\n",
        "PROJECT_ID = \"qwiklabs-gcp-01-5813c5344fea\"  # 替换为您的项目 ID，确保与之前的代码一致\n",
        "\n",
        "db = firestore.Client(project=PROJECT_ID)\n"
      ],
      "metadata": {
        "id": "l5QGok73graz"
      },
      "id": "l5QGok73graz",
      "execution_count": 18,
      "outputs": []
    },
    {
      "cell_type": "code",
      "source": [
        "collection = db.collection(\"food-safety\")\n"
      ],
      "metadata": {
        "id": "MigIDy06grgB"
      },
      "id": "MigIDy06grgB",
      "execution_count": 19,
      "outputs": []
    },
    {
      "cell_type": "code",
      "source": [
        "for content, embedding in zip(chunked_content, chunked_embeddings):\n",
        "    doc_ref = collection.document(str(uuid.uuid4()))  # 使用随机 UUID 作为文档 ID\n",
        "\n",
        "    # 将 embedding 转换为 Firestore Vector\n",
        "    vector_embedding = Vector(np.array(embedding).astype(np.float32).tolist())\n",
        "\n",
        "    doc_ref.set({\n",
        "        \"content\": content,\n",
        "        \"embedding\": vector_embedding\n",
        "    })"
      ],
      "metadata": {
        "id": "ctD30xKni8O4"
      },
      "id": "ctD30xKni8O4",
      "execution_count": 20,
      "outputs": []
    },
    {
      "cell_type": "code",
      "source": [
        "#创建向量索引\n",
        "#gcloud firestore indexes composite create \\\n",
        "# --collection-group=\"food-safety\" \\\n",
        "#  --query-scope=COLLECTION \\\n",
        "#  --field-config='field-path=embedding,vector-config={\"dimension\":\"768\", \"flat\": \"{}\"}' \\\n",
        "#  --database=\"(default)\" \\\n",
        "#  --project=\"qwiklabs-gcp-01-5813c5344fea\"\n",
        "\n",
        "#列出向量索引\n",
        "#gcloud firestore indexes composite list --database=\"(default)\""
      ],
      "metadata": {
        "id": "fXr2Yprci8M1"
      },
      "id": "fXr2Yprci8M1",
      "execution_count": null,
      "outputs": []
    },
    {
      "cell_type": "code",
      "source": [],
      "metadata": {
        "id": "BRKXA6iei8B7"
      },
      "id": "BRKXA6iei8B7",
      "execution_count": null,
      "outputs": []
    },
    {
      "cell_type": "code",
      "source": [
        "def search_vector_database(query: str):\n",
        "\n",
        "    context = \"\"\n",
        "\n",
        "    # 1. Generate the embedding of the query\n",
        "    query_embedding = embedding_model.embed_query(query) # 需要之前定义的 embedding_model\n",
        "    query_vector = Vector(np.array(query_embedding).astype(np.float32).tolist())\n",
        "\n",
        "    # 2. Get the 5 nearest neighbors from your collection\n",
        "    # Call the get() method on the result of your call to\n",
        "    # find_nearest to retrieve document snapshots.\n",
        "    results = collection.find_nearest(\n",
        "        \"embedding\",  # 直接传递要比较的字段名\n",
        "        query_vector,\n",
        "        distance_measure=DistanceMeasure.COSINE,\n",
        "        limit=5\n",
        "    ).get()\n",
        "\n",
        "    # 3. Call to_dict() on each snapshot to load its data.\n",
        "    # Combine the snapshots into a single string named context\n",
        "    for doc in results:\n",
        "        data = doc.to_dict()\n",
        "        context += data[\"content\"] + \"\\n\\n\"\n",
        "\n",
        "    return context\n",
        "\n",
        "query = \"How should I store food?\"\n",
        "result = search_vector_database(query)\n",
        "print(result)"
      ],
      "metadata": {
        "colab": {
          "base_uri": "https://localhost:8080/"
        },
        "id": "agag0hKji75s",
        "outputId": "e38edcaf-7276-4a40-fdaa-eeae76bdf48a"
      },
      "id": "agag0hKji75s",
      "execution_count": 31,
      "outputs": [
        {
          "output_type": "stream",
          "name": "stdout",
          "text": [
            " Store foods away from dripping condensate , at least six inches above the floor and with enough space between items to encourage air circulation. Freezer Storage Freezing is an excellent method for prolonging the shelf life of foods. By keeping foods frozen solid, the bacterial growth is minimal at best. However, if frozen foods are thawed and then refrozen, then harmful bacteria can reproduce to dangerous levels when thawed for the second time. In addition to that, the quality of the food is also affected. Never refreeze thawed foods, instead use them immediately. Keep the following rules in mind for freezer storage:  Use First In First Out method of stock rotation. All frozen foods should be frozen solid with temperature at 0°F or lower. Always use clean containers that are clearly labeled and marked, and have proper and secure lids. Allow adequate spacing between food containers to allow for proper air circulation. Never use the freezer for cooling hot foods. * * Tip: When receiving multiple items, always store the frozen foods first, then foods that are to be refrigerated, and finally the non perishable dry goods. Dry Storage Proper storage of dry foods such as cereals, flour, rice, starches, spices, canned goods, packaged foods and vegetables that do not require refrigeration ensures that these foods will still be usable when needed. Adequate storage space as well as low humidity (50% or less), and low temperatures (70 °F or less) are strongly recommended.\n",
            "\n",
            "Only use food containers that are clean, non-absorbent and are made from food-grade material intended for such use. Containers made from metal may react with certain type of high acid foods such as sauerkraut, citrus juices, tomato sauce, etc. Plastic food-grade containers are the best choice for these types of foods. Containers made of copper, brass, tin and galvanized metal should not be used. The use of such products is prohibited. Re-using cardboard containers to store cooked foods is also a source of contamination. Lining containers with newspapers, menus or other publication before placing foods is also prohibited as chemical dyes from these can easily leach into foods. Storage Areas Foods should only be stored in designated areas. Storing foods in passageways, rest rooms, garbage areas, utility rooms, etc. would subject these to contamination. Raw foods must always be stored below and away from cooked foods to avoid cross contamination. Refrigerated Storage This type of storage is typically used for holding potentially hazardous foods as well as perishable foods for short periods of time—a few hours to a few days. An adequate number of efficient refrigerated units are required to store potentially hazardous cold foods. By keeping cold foods cold, the microorganisms that are found naturally on these foods are kept to a minimum. Cold temperature does not kill microorganisms, however, it slows down their growth. Pre-packaged cold foods must be stored at temperatures recommended by the manufacturer. This is especially important when dealing with vacuum packed foods, modified atmosphere packages and sous vide foods. Smoked fish is required by the Health Code to be stored at 38°F or below. Fresh meat, poultry and other potentially hazardous foods must be stored at 41°F or below, while frozen foods must be stored at 0°F or below.\n",
            "\n",
            "In addition to the above, avoid sunlight as it may affect the quality of some foods. Following are some of the guidelines:  Use First In First Out method of stock rotation. Keep foods at least 6 inches off the floor. This allows for proper cleaning and to detect vermin activity. Keep foods in containers with tightly fitted lids. Keep dry storage areas well lighted and ventilated. Install shades on windows to prevent exposure from sunlight. Do not store foods under overhead water lines that may drip due to leaks or condensation. Do not store garbage in dry food storage areas. Make sure that dry storage area is vermin proof by sealing walls and baseboards and by repairing holes and other openings. * * Safety Tip: Storage of harmful chemicals in the food storage areas can create hazardous situations and hence is prohibited by law. All chemicals must be labeled properly and used in accordance to the instructions on the label. Pesticide use is prohibited unless used by a licensed pest control officer. Storage in Ice Whenever food items are to be stored in ice, care must be taken to ensure that water from the melted ice is constantly being drained so that the food remains on ice and not immersed in iced water.\n",
            "\n",
            "Furthermore, it is improper to store food in ice machines or ice that will be later used for human consumption. Food should be stored at least six inches off the floor, away from walls and dripping pipes. Keep all food, bulk or otherwise, covered and safe from contamination. Check food daily and throw away any spoiled or contaminated food. Store cleaning, disinfecting, and other chemicals away from foods, clearly marked and in their original containers. Keep food refrigerated at a temperature of 41°F or below. Monitor temperatures regularly with a thermometer placed in the warmest part of the refrigerator. Keep all cooling compartments closed except when you are using them. Store food in a refrigerator in such a way that the air inside can circulate freely. Keep all refrigerated foods covered, and use up stored leftovers quickly. When dishes and utensils are sparkling clean, keep them that way by proper storage.\n",
            "\n",
            "l Store food in vermin-proof containers — metal or glass  containers, with tightly fitted lids. l Remove dented, leaking, rusted, swollen or unlabeled canned goods. Cold Storage: l All PHFs must be stored at 41° F (Except smoked fish at 38° F and raw shell eggs at 45 ° F). l All cooked and ready-to-eat food must be stored away from and above raw food. l Do not store foods in quantities that exceed the storage unit’s  capacity. l Place a refrigeration thermometer in the warmest spot in the unit to measure ambient air temperature of the unit l Check for condensation that may contaminate food. l Keep frozen foods frozen at 0° F or lower. STORAGE \n",
            "\n",
            "\n"
          ]
        }
      ]
    },
    {
      "cell_type": "code",
      "source": [],
      "metadata": {
        "id": "Cvk4k-i0i7vE"
      },
      "id": "Cvk4k-i0i7vE",
      "execution_count": null,
      "outputs": []
    }
  ],
  "metadata": {
    "kernelspec": {
      "display_name": "Python 3",
      "language": "python",
      "name": "python3"
    },
    "language_info": {
      "codemirror_mode": {
        "name": "ipython",
        "version": 3
      },
      "file_extension": ".py",
      "mimetype": "text/x-python",
      "name": "python",
      "nbconvert_exporter": "python",
      "pygments_lexer": "ipython3",
      "version": "3.10.10"
    },
    "colab": {
      "provenance": [],
      "name": "cymbal_ingest_to_vector_database.ipynb"
    }
  },
  "nbformat": 4,
  "nbformat_minor": 5
}